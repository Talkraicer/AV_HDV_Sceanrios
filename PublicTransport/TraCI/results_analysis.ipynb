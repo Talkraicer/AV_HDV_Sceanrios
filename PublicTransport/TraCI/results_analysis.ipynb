{
 "cells": [
  {
   "cell_type": "markdown",
   "source": [
    "# Analysis of results for different parameters"
   ],
   "metadata": {
    "collapsed": false
   }
  },
  {
   "cell_type": "markdown",
   "source": [
    "## Metrics:\n",
    "all metrics are calculated for each vType and averaged over many reps.\n",
    "trip duration: average duration of all trips\n",
    "depart delay: average delay of all trips\n",
    "speed: average speed of all trips\n",
    "timeLoss: average time loss of all trips in comparison to maximum possible speed"
   ],
   "metadata": {
    "collapsed": false
   }
  },
  {
   "cell_type": "code",
   "execution_count": 10,
   "outputs": [],
   "source": [
    "import pandas as pd\n",
    "import numpy as np\n",
    "import matplotlib.pyplot as plt\n",
    "import os"
   ],
   "metadata": {
    "collapsed": false
   }
  },
  {
   "cell_type": "code",
   "execution_count": 4,
   "outputs": [],
   "source": [
    "FLOWS = [1000,2000,3000,4000,5000,6000,7000,8000,9000,10000]\n",
    "METRICS = [\"duration\",\"speed\", \"departDelay\", \"timeLoss\", \"totalDelay\"]\n",
    "vTypes = [\"Bus\", \"HD\",\"AV\", \"all\"]\n",
    "av_rates = [0.0, 0.1, 0.2, 0.3, 0.4, 0.5, 0.6, 0.7, 0.8, 0.9,0.997]\n",
    "\n",
    "fontsize = 20"
   ],
   "metadata": {
    "collapsed": false
   }
  },
  {
   "cell_type": "code",
   "execution_count": 18,
   "outputs": [],
   "source": [
    "POLICY_NAMES = [\"ClearFrontDL\", \"ClearFront100DL\", \"ClearFront500DL\"]\n",
    "BASELINE = \"Nothing\"\n",
    "os.makedirs(f\"results_figures/Policies_{POLICY_NAMES}_BASELINE_{BASELINE}\", exist_ok=True)\n",
    "for flow in FLOWS:\n",
    "    fig, axs = plt.subplots(len(vTypes), len(METRICS), figsize=(40, 40))\n",
    "    fig.suptitle('Flow: {} Baseline: {}'.format(flow,BASELINE), fontsize=fontsize*3)\n",
    "    metrics_lims_plot = {\"duration_diff\": (-0.1,0.1), \"speed_diff\": (-0.1,0.1), \"departDelay_diff\": (-0.1,0.1), \"timeLoss_diff\": (-0.1,0.1), \"totalDelay_diff\": (-0.1,0.1)}\n",
    "    for policy in POLICY_NAMES:\n",
    "        df = pd.read_pickle(\"results_csvs/{}_{}_flow_{}.pkl\".format(policy,BASELINE, flow))\n",
    "        for i, vType in enumerate(vTypes):\n",
    "            for j, metric in enumerate(METRICS):\n",
    "                metric += \"_diff\"\n",
    "                err = df[vType][f\"std_{metric}\"]/df[vType][\"count\"].pow(1/2)*1.96\n",
    "                # err = df[vType][f\"std_{metric}\"]\n",
    "                axs[i,j].errorbar(df.index, df[vType][f\"avg_{metric}\"], yerr=err\n",
    "                                    , label=policy+f\"-{BASELINE}\")\n",
    "                # Plot zero line\n",
    "                axs[i,j].plot(df.index, np.zeros(len(df.index)), color=\"black\", linestyle=\"--\")\n",
    "                axs[i,j].set_title(\"{}: {}\".format(vType, metric+\"_per\"), fontsize=fontsize)\n",
    "                axs[i,j].set_xlabel(\"AV probability\", fontsize=fontsize)\n",
    "                axs[i,j].set_ylabel(metric+\"_percentage\", fontsize=fontsize)\n",
    "                axs[i,j].tick_params(axis='both', which='major', labelsize=fontsize)\n",
    "                axs[i,j].legend()\n",
    "                # Set limits\n",
    "                if vType != \"emergency\":\n",
    "                    metrics_lims_plot[metric] = (min(metrics_lims_plot[metric][0], min(df[vType][f\"avg_{metric}\"]-err)), max(metrics_lims_plot[metric][1], max(df[vType][f\"avg_{metric}\"]+err)))\n",
    "    for i, vType in enumerate(vTypes):\n",
    "            if vType == \"emergency\":\n",
    "                continue\n",
    "            for j, metric in enumerate(METRICS):\n",
    "                metric += \"_diff\"\n",
    "                if metrics_lims_plot[metric][0] == metrics_lims_plot[metric][1]:\n",
    "                    continue\n",
    "                axs[i,j].set_ylim(metrics_lims_plot[metric])\n",
    "    plt.savefig(f\"results_figures/Policies_{POLICY_NAMES}_BASELINE_{BASELINE}/flow_{flow}_policies_{POLICY_NAMES}_{BASELINE}.png\")\n",
    "    plt.close()"
   ],
   "metadata": {
    "collapsed": false
   }
  },
  {
   "cell_type": "code",
   "execution_count": 6,
   "outputs": [],
   "source": [
    "POLICY_NAMES = [\"ClearFront\", \"ClearFront100\", \"ClearFront500\" ]\n",
    "for av_rate in [0.2,0.4,0.6,0.8]:\n",
    "    fig, axs = plt.subplots(len(vTypes), len(METRICS), figsize=(40, 40))\n",
    "    fig.suptitle('AV rate: {}'.format(av_rate), fontsize=fontsize*3)\n",
    "    metrics_lims_plot = {\"duration_diff\": (-0.1,0.1), \"speed_diff\": (-0.1,0.1), \"departDelay_diff\": (-0.1,0.1), \"timeLoss_diff\": (-0.1,0.1), \"totalDelay_diff\": (-0.1,0.1)}\n",
    "    for policy in POLICY_NAMES:\n",
    "        df = pd.read_pickle(\"results_csvs/{}_Nothing_av_rate_{}.pkl\".format(policy, av_rate))\n",
    "        for i, vType in enumerate(vTypes):\n",
    "            for j, metric in enumerate(METRICS):\n",
    "                metric += \"_diff\"\n",
    "                err = df[vType][f\"std_{metric}\"]/df[vType][\"count\"].pow(1/2)*1.96\n",
    "                # err = df[vType][f\"std_{metric}\"]\n",
    "                axs[i,j].errorbar(df.index, df[vType][f\"avg_{metric}\"], yerr=err\n",
    "                                    , label=policy+\"-Nothing\")\n",
    "                # Plot zero line\n",
    "                axs[i,j].plot(df.index, np.zeros(len(df.index)), color=\"black\", linestyle=\"--\")\n",
    "                axs[i,j].set_title(\"{}: {}\".format(vType, metric+\"_per\"), fontsize=fontsize)\n",
    "                axs[i,j].set_xlabel(\"Flow\", fontsize=fontsize)\n",
    "                axs[i,j].set_ylabel(metric+\"_percentage\", fontsize=fontsize)\n",
    "                axs[i,j].tick_params(axis='both', which='major', labelsize=fontsize)\n",
    "                axs[i,j].legend()\n",
    "                # Set limit\n",
    "                # s\n",
    "                if vType != \"emergency\":\n",
    "                    metrics_lims_plot[metric] = (min(metrics_lims_plot[metric][0], min(df[vType][f\"avg_{metric}\"]-err)), max(metrics_lims_plot[metric][1], max(df[vType][f\"avg_{metric}\"]+err)))\n",
    "    for i, vType in enumerate(vTypes):\n",
    "        if vType == \"emergency\":\n",
    "            continue\n",
    "        for j, metric in enumerate(METRICS):\n",
    "            metric += \"_diff\"\n",
    "            if metrics_lims_plot[metric][0] == metrics_lims_plot[metric][1]:\n",
    "                continue\n",
    "            axs[i,j].set_ylim(metrics_lims_plot[metric])\n",
    "    plt.savefig(f\"results_figures/av_rate_{av_rate}_policies_{POLICY_NAMES}_Nothing.png\")\n",
    "    plt.close()"
   ],
   "metadata": {
    "collapsed": false
   }
  }
 ],
 "metadata": {
  "kernelspec": {
   "display_name": "Python 3",
   "language": "python",
   "name": "python3"
  },
  "language_info": {
   "codemirror_mode": {
    "name": "ipython",
    "version": 2
   },
   "file_extension": ".py",
   "mimetype": "text/x-python",
   "name": "python",
   "nbconvert_exporter": "python",
   "pygments_lexer": "ipython2",
   "version": "2.7.6"
  }
 },
 "nbformat": 4,
 "nbformat_minor": 0
}
