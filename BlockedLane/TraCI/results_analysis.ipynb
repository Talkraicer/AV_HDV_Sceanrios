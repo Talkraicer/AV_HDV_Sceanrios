{
 "cells": [
  {
   "cell_type": "code",
   "execution_count": 1,
   "id": "initial_id",
   "metadata": {
    "collapsed": true,
    "ExecuteTime": {
     "end_time": "2024-02-23T17:25:50.823729500Z",
     "start_time": "2024-02-23T17:25:49.520894900Z"
    }
   },
   "outputs": [],
   "source": [
    "import numpy as np\n",
    "import matplotlib.pyplot as plt\n",
    "import pandas as pd\n"
   ]
  },
  {
   "cell_type": "code",
   "outputs": [],
   "source": [
    "STOPPING_LANE = 1\n",
    "METRICS = [\"duration\", \"speed\", \"timeLoss\", \"totalDelay\"]\n",
    "vTypes = [\"LaneChanger\",\"all\",\"AV\"]"
   ],
   "metadata": {
    "collapsed": false,
    "ExecuteTime": {
     "end_time": "2024-02-23T17:31:17.508046700Z",
     "start_time": "2024-02-23T17:31:17.493200900Z"
    }
   },
   "id": "9206658b49c28dbc",
   "execution_count": 20
  },
  {
   "cell_type": "code",
   "outputs": [],
   "source": [
    "def sort_df(df):\n",
    "    split_indices = df.index.str.split('_',expand=True).values.tolist()\n",
    "    cols = [str(i) for i in range(len(split_indices[0]))]\n",
    "    splitted_indices_df = pd.DataFrame(split_indices, index=df.index, columns=cols)\n",
    "    df_joined = df.join(splitted_indices_df)\n",
    "    df_sorted = df_joined.sort_values(by = cols[::-1])\n",
    "    df_sorted.drop(columns=cols, inplace=True)\n",
    "    return df_sorted"
   ],
   "metadata": {
    "collapsed": false,
    "ExecuteTime": {
     "end_time": "2024-02-23T17:31:19.704526100Z",
     "start_time": "2024-02-23T17:31:19.686647Z"
    }
   },
   "id": "e9c4c5ca6a6d587b",
   "execution_count": 21
  },
  {
   "cell_type": "code",
   "outputs": [],
   "source": [
    "for vType in vTypes:\n",
    "    for metric in METRICS:\n",
    "        df = pd.read_csv(f\"results_csvs/BlockedLane_{metric}_{vType}_stopping_lane_{STOPPING_LANE}.csv\",index_col=0)\n",
    "        # sort the rows, but sort by the transposed string\n",
    "        df = sort_df(df)\n",
    "        # round the values\n",
    "        df = df.round(1)\n",
    "        # plot the table with colors according to the values\n",
    "        fig, ax = plt.subplots(figsize=(100,20))\n",
    "        \n",
    "        cax = ax.matshow(df, cmap='coolwarm')\n",
    "        fig.colorbar(cax)\n",
    "        # Add cell values as text on each cell\n",
    "        for i in range(df.shape[0]):\n",
    "            for j in range(df.shape[1]):\n",
    "                text = ax.text(j, i, df.iloc[i, j],\n",
    "                               ha=\"center\", va=\"center\", color=\"w\")\n",
    "        # Set the x-axis labels\n",
    "        ax.set_xticks(np.arange(len(df.columns)))\n",
    "        ax.set_xticklabels(df.columns)\n",
    "        # Set the y-axis labels\n",
    "        ax.set_yticks(np.arange(len(df.index)))\n",
    "        ax.set_yticklabels(df.index)\n",
    "        # Rotate the y-axis labels\n",
    "        plt.setp(ax.get_xticklabels(), rotation=90, ha=\"right\")\n",
    "        plt.suptitle(f\"BlockedLane_{metric}_{vType}_stopping_lane_{STOPPING_LANE}\")\n",
    "        plt.savefig(f\"results_figures/BlockedLane_{metric}_{vType}_stopping_lane_{STOPPING_LANE}.png\")\n",
    "        plt.close()"
   ],
   "metadata": {
    "collapsed": false,
    "ExecuteTime": {
     "end_time": "2024-02-23T21:42:14.312793100Z",
     "start_time": "2024-02-23T21:41:38.016742400Z"
    }
   },
   "id": "6d038c53bb5a62e3",
   "execution_count": 26
  },
  {
   "cell_type": "code",
   "outputs": [
    {
     "data": {
      "text/plain": "-2.8"
     },
     "execution_count": 23,
     "metadata": {},
     "output_type": "execute_result"
    }
   ],
   "source": [
    "df.to_numpy().min()"
   ],
   "metadata": {
    "collapsed": false,
    "ExecuteTime": {
     "end_time": "2024-02-23T17:31:25.868101700Z",
     "start_time": "2024-02-23T17:31:25.850278500Z"
    }
   },
   "id": "e76540e99dde9b58",
   "execution_count": 23
  },
  {
   "cell_type": "code",
   "outputs": [],
   "source": [],
   "metadata": {
    "collapsed": false
   },
   "id": "a32ca1c9e7c872c"
  }
 ],
 "metadata": {
  "kernelspec": {
   "display_name": "Python 3",
   "language": "python",
   "name": "python3"
  },
  "language_info": {
   "codemirror_mode": {
    "name": "ipython",
    "version": 2
   },
   "file_extension": ".py",
   "mimetype": "text/x-python",
   "name": "python",
   "nbconvert_exporter": "python",
   "pygments_lexer": "ipython2",
   "version": "2.7.6"
  }
 },
 "nbformat": 4,
 "nbformat_minor": 5
}
