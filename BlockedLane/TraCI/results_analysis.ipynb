{
 "cells": [
  {
   "cell_type": "code",
   "execution_count": 2,
   "id": "initial_id",
   "metadata": {
    "collapsed": true,
    "ExecuteTime": {
     "end_time": "2024-02-23T15:05:05.072100300Z",
     "start_time": "2024-02-23T15:05:04.045761200Z"
    }
   },
   "outputs": [],
   "source": [
    "import numpy as np\n",
    "import matplotlib.pyplot as plt\n",
    "import pandas as pd\n"
   ]
  },
  {
   "cell_type": "code",
   "outputs": [],
   "source": [
    "STOPPING_LANE = 1\n",
    "METRICS = [\"timeloss\"]\n",
    "vTypes = [\"AV\",\"LaneChanger\",\"all\"]"
   ],
   "metadata": {
    "collapsed": false,
    "ExecuteTime": {
     "end_time": "2024-02-23T15:21:11.249782400Z",
     "start_time": "2024-02-23T15:21:11.231907900Z"
    }
   },
   "id": "9206658b49c28dbc",
   "execution_count": 23
  },
  {
   "cell_type": "code",
   "outputs": [],
   "source": [
    "def sort_df(df):\n",
    "    split_indices = df.index.str.split('_',expand=True).values.tolist()\n",
    "    cols = [str(i) for i in range(len(split_indices[0]))]\n",
    "    splitted_indices_df = pd.DataFrame(split_indices, index=df.index, columns=cols)\n",
    "    df_joined = df.join(splitted_indices_df)\n",
    "    df_sorted = df_joined.sort_values(by = cols[::-1])\n",
    "    df_sorted.drop(columns=cols, inplace=True)\n",
    "    # move last row to be the first\n",
    "    df_sorted = pd.concat([df_sorted.iloc[[-1]], df_sorted.iloc[:-1]])\n",
    "    return df_sorted"
   ],
   "metadata": {
    "collapsed": false,
    "ExecuteTime": {
     "end_time": "2024-02-23T16:03:50.974375700Z",
     "start_time": "2024-02-23T16:03:50.930668900Z"
    }
   },
   "id": "e9c4c5ca6a6d587b",
   "execution_count": 92
  },
  {
   "cell_type": "code",
   "outputs": [],
   "source": [
    "for vType in vTypes:\n",
    "    for metric in METRICS:\n",
    "        df = pd.read_csv(f\"results_csvs/BlockedLane_{metric}_{vType}_stopping_lane_{STOPPING_LANE}.csv\",index_col=0)\n",
    "        # sort the rows, but sort by the transposed string\n",
    "        df = sort_df(df)\n",
    "        # round the values\n",
    "        df = df.round(2)\n",
    "        # plot the table with colors according to the values\n",
    "        fig, ax = plt.subplots(figsize=(100,100))\n",
    "        \n",
    "        cax = ax.matshow(df, cmap='coolwarm')\n",
    "        # Add cell values as text on each cell\n",
    "        for i in range(df.shape[0]):\n",
    "            for j in range(df.shape[1]):\n",
    "                text = ax.text(j, i, df.iloc[i, j],\n",
    "                               ha=\"center\", va=\"center\", color=\"w\")\n",
    "        # Set the x-axis labels\n",
    "        ax.set_xticks(np.arange(len(df.columns)))\n",
    "        ax.set_xticklabels(df.columns)\n",
    "        # Set the y-axis labels\n",
    "        ax.set_yticks(np.arange(len(df.index)))\n",
    "        ax.set_yticklabels(df.index)\n",
    "        # Rotate the y-axis labels\n",
    "        plt.setp(ax.get_xticklabels(), rotation=90, ha=\"right\")\n",
    "        plt.suptitle(f\"BlockedLane_{metric}_{vType}_stopping_lane_{STOPPING_LANE}\")\n",
    "        plt.savefig(f\"results_figures/BlockedLane_{metric}_{vType}_stopping_lane_{STOPPING_LANE}.png\")\n",
    "        plt.close()"
   ],
   "metadata": {
    "collapsed": false,
    "ExecuteTime": {
     "end_time": "2024-02-23T16:04:04.543495100Z",
     "start_time": "2024-02-23T16:03:51.276388700Z"
    }
   },
   "id": "6d038c53bb5a62e3",
   "execution_count": 93
  },
  {
   "cell_type": "code",
   "outputs": [],
   "source": [],
   "metadata": {
    "collapsed": false
   },
   "id": "61d45f2310c26807"
  }
 ],
 "metadata": {
  "kernelspec": {
   "display_name": "Python 3",
   "language": "python",
   "name": "python3"
  },
  "language_info": {
   "codemirror_mode": {
    "name": "ipython",
    "version": 2
   },
   "file_extension": ".py",
   "mimetype": "text/x-python",
   "name": "python",
   "nbconvert_exporter": "python",
   "pygments_lexer": "ipython2",
   "version": "2.7.6"
  }
 },
 "nbformat": 4,
 "nbformat_minor": 5
}
