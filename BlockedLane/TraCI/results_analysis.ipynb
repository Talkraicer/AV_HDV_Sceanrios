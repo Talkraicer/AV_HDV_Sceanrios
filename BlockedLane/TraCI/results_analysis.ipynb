{
 "cells": [
  {
   "cell_type": "code",
   "execution_count": 1,
   "id": "initial_id",
   "metadata": {
    "collapsed": true,
    "ExecuteTime": {
     "end_time": "2024-03-03T10:28:27.575163800Z",
     "start_time": "2024-03-03T10:28:26.181222500Z"
    }
   },
   "outputs": [],
   "source": [
    "import numpy as np\n",
    "import matplotlib.pyplot as plt\n",
    "import pandas as pd\n",
    "from tqdm import tqdm\n",
    "import matplotlib.colors as mcolors"
   ]
  },
  {
   "cell_type": "code",
   "outputs": [],
   "source": [
    "EXP_NAME = \"BlockedLane5000\"\n",
    "STOPPING_LANE = 0\n",
    "METRICS = [\"duration\", \"departDelay\", \"speed\", \"timeLoss\", \"totalDelay\"]\n",
    "vTypes = [\"LaneChanger\",\"all\",\"AV\"]\n",
    "fontsize = 60"
   ],
   "metadata": {
    "collapsed": false,
    "ExecuteTime": {
     "end_time": "2024-03-03T10:28:27.588687800Z",
     "start_time": "2024-03-03T10:28:27.572654Z"
    }
   },
   "id": "9206658b49c28dbc",
   "execution_count": 2
  },
  {
   "cell_type": "code",
   "outputs": [],
   "source": [
    "def sort_df(df):\n",
    "    split_indices = df.index.str.split('_',expand=True).values.tolist()\n",
    "    cols = [str(i) for i in range(len(split_indices[0]))]\n",
    "    splitted_indices_df = pd.DataFrame(split_indices, index=df.index, columns=cols)\n",
    "    df_joined = df.join(splitted_indices_df)\n",
    "    df_sorted = df_joined.sort_values(by = cols[::-1])\n",
    "    df_sorted.drop(columns=cols, inplace=True)\n",
    "    return df_sorted"
   ],
   "metadata": {
    "collapsed": false,
    "ExecuteTime": {
     "end_time": "2024-03-03T10:28:27.609161700Z",
     "start_time": "2024-03-03T10:28:27.588687800Z"
    }
   },
   "id": "e9c4c5ca6a6d587b",
   "execution_count": 3
  },
  {
   "cell_type": "code",
   "outputs": [
    {
     "name": "stderr",
     "output_type": "stream",
     "text": [
      "  0%|          | 0/3 [00:00<?, ?it/s]\n",
      "  0%|          | 0/5 [00:00<?, ?it/s]\u001B[A\n",
      " 20%|██        | 1/5 [00:07<00:31,  7.91s/it]\u001B[A\n",
      " 40%|████      | 2/5 [00:15<00:22,  7.48s/it]\u001B[A\n",
      " 60%|██████    | 3/5 [00:22<00:15,  7.60s/it]\u001B[A\n",
      " 80%|████████  | 4/5 [00:31<00:07,  7.84s/it]\u001B[A\n",
      "100%|██████████| 5/5 [00:39<00:00,  7.97s/it]\u001B[A\n",
      " 33%|███▎      | 1/3 [00:39<01:19, 39.83s/it]\n",
      "  0%|          | 0/5 [00:00<?, ?it/s]\u001B[A\n",
      " 20%|██        | 1/5 [00:06<00:26,  6.73s/it]\u001B[A\n",
      " 40%|████      | 2/5 [00:14<00:21,  7.19s/it]\u001B[A\n",
      " 60%|██████    | 3/5 [00:21<00:14,  7.08s/it]\u001B[A\n",
      " 80%|████████  | 4/5 [00:29<00:07,  7.68s/it]\u001B[A\n",
      "100%|██████████| 5/5 [00:37<00:00,  7.48s/it]\u001B[A\n",
      " 67%|██████▋   | 2/3 [01:17<00:38, 38.42s/it]\n",
      "  0%|          | 0/5 [00:00<?, ?it/s]\u001B[A\n",
      " 20%|██        | 1/5 [00:06<00:27,  6.91s/it]\u001B[A\n",
      " 40%|████      | 2/5 [00:14<00:22,  7.44s/it]\u001B[A\n",
      " 60%|██████    | 3/5 [00:21<00:14,  7.33s/it]\u001B[A\n",
      " 80%|████████  | 4/5 [00:29<00:07,  7.45s/it]\u001B[A\n",
      "100%|██████████| 5/5 [00:38<00:00,  7.73s/it]\u001B[A\n",
      "100%|██████████| 3/3 [01:55<00:00, 38.65s/it]\n",
      "  0%|          | 0/3 [00:00<?, ?it/s]\n",
      "  0%|          | 0/5 [00:00<?, ?it/s]\u001B[A\n",
      " 20%|██        | 1/5 [00:08<00:33,  8.38s/it]\u001B[A\n",
      " 40%|████      | 2/5 [00:16<00:24,  8.22s/it]\u001B[A\n",
      " 60%|██████    | 3/5 [00:24<00:16,  8.20s/it]\u001B[A\n",
      " 80%|████████  | 4/5 [00:32<00:08,  8.04s/it]\u001B[A\n",
      "100%|██████████| 5/5 [00:39<00:00,  7.80s/it]\u001B[A\n",
      " 33%|███▎      | 1/3 [00:39<01:18, 39.02s/it]\n",
      "  0%|          | 0/5 [00:00<?, ?it/s]\u001B[A\n",
      " 20%|██        | 1/5 [00:07<00:31,  7.79s/it]\u001B[A\n",
      " 40%|████      | 2/5 [00:14<00:22,  7.42s/it]\u001B[A\n",
      " 60%|██████    | 3/5 [00:22<00:15,  7.52s/it]\u001B[A\n",
      " 80%|████████  | 4/5 [00:32<00:08,  8.39s/it]\u001B[A\n",
      "100%|██████████| 5/5 [00:39<00:00,  7.87s/it]\u001B[A\n",
      " 67%|██████▋   | 2/3 [01:18<00:39, 39.22s/it]\n",
      "  0%|          | 0/5 [00:00<?, ?it/s]\u001B[A\n",
      " 20%|██        | 1/5 [00:06<00:27,  6.85s/it]\u001B[A\n",
      " 40%|████      | 2/5 [00:13<00:20,  6.75s/it]\u001B[A\n",
      " 60%|██████    | 3/5 [00:20<00:13,  6.63s/it]\u001B[A\n",
      " 80%|████████  | 4/5 [00:26<00:06,  6.59s/it]\u001B[A\n",
      "100%|██████████| 5/5 [00:33<00:00,  6.61s/it]\u001B[A\n",
      "100%|██████████| 3/3 [01:51<00:00, 37.15s/it]\n",
      "  0%|          | 0/3 [00:00<?, ?it/s]\n",
      "  0%|          | 0/5 [00:00<?, ?it/s]\u001B[A\n",
      " 20%|██        | 1/5 [00:08<00:33,  8.30s/it]\u001B[A\n",
      " 40%|████      | 2/5 [00:14<00:21,  7.19s/it]\u001B[A\n",
      " 60%|██████    | 3/5 [00:21<00:13,  6.85s/it]\u001B[A\n",
      " 80%|████████  | 4/5 [00:27<00:06,  6.61s/it]\u001B[A\n",
      "100%|██████████| 5/5 [00:34<00:00,  6.80s/it]\u001B[A\n",
      " 33%|███▎      | 1/3 [00:34<01:08, 34.01s/it]\n",
      "  0%|          | 0/5 [00:00<?, ?it/s]\u001B[A\n",
      " 20%|██        | 1/5 [00:06<00:26,  6.57s/it]\u001B[A\n",
      " 40%|████      | 2/5 [00:12<00:19,  6.42s/it]\u001B[A\n",
      " 60%|██████    | 3/5 [00:19<00:12,  6.47s/it]\u001B[A\n",
      " 80%|████████  | 4/5 [00:28<00:07,  7.33s/it]\u001B[A\n",
      "100%|██████████| 5/5 [00:34<00:00,  6.91s/it]\u001B[A\n",
      " 67%|██████▋   | 2/3 [01:08<00:34, 34.34s/it]\n",
      "  0%|          | 0/5 [00:00<?, ?it/s]\u001B[A\n",
      " 20%|██        | 1/5 [00:06<00:25,  6.50s/it]\u001B[A\n",
      " 40%|████      | 2/5 [00:13<00:19,  6.65s/it]\u001B[A\n",
      " 60%|██████    | 3/5 [00:19<00:13,  6.67s/it]\u001B[A\n",
      " 80%|████████  | 4/5 [00:26<00:06,  6.61s/it]\u001B[A\n",
      "100%|██████████| 5/5 [00:33<00:00,  6.63s/it]\u001B[A\n",
      "100%|██████████| 3/3 [01:41<00:00, 33.91s/it]\n"
     ]
    }
   ],
   "source": [
    "# for loop over vtypes and metrics with tqdm\n",
    "for STOPPING_LANE in [0,1,2]:\n",
    "    for vType in tqdm(vTypes):\n",
    "        for metric in tqdm(METRICS):\n",
    "            df = pd.read_csv(f\"results_csvs/{EXP_NAME}/stopped_lane_{STOPPING_LANE}/{EXP_NAME}_{metric}_{vType}_stopping_lane_{STOPPING_LANE}.csv\",index_col=0)\n",
    "            # sort the rows, but sort by the transposed string\n",
    "            df = sort_df(df)\n",
    "            # round the values\n",
    "            df = df.round(1)\n",
    "            # plot the table with colors according to the values\n",
    "            fig, ax = plt.subplots(figsize=(100,50))\n",
    "            \n",
    "            # Create a colormap\n",
    "            cmap = plt.cm.coolwarm\n",
    "            # Set the color for value 0.0 to black\n",
    "            cmap.set_under(color='black')\n",
    "            \n",
    "            # Mask the DataFrame values that are not 0.0\n",
    "            df_masked = np.ma.masked_where(df == 0.0, df)\n",
    "            \n",
    "            # Use the custom colormap\n",
    "            cax = ax.matshow(df_masked, cmap=cmap)\n",
    "        \n",
    "            fig.colorbar(cax)\n",
    "            # Add cell values as text on each cell\n",
    "            for i in range(df.shape[0]):\n",
    "                for j in range(df.shape[1]):\n",
    "                    text = ax.text(j, i, df.iloc[i, j],\n",
    "                                   ha=\"center\", va=\"center\", color=\"w\")\n",
    "            # Set the x-axis labels\n",
    "            ax.set_xticks(np.arange(len(df.columns)))\n",
    "            ax.set_xticklabels(df.columns)\n",
    "            # Set the y-axis labels\n",
    "            ax.set_yticks(np.arange(len(df.index)))\n",
    "            ax.set_yticklabels(df.index)\n",
    "            # Rotate the y-axis labels\n",
    "            plt.setp(ax.get_xticklabels(), rotation=90, ha=\"right\")\n",
    "            plt.suptitle(f\"{EXP_NAME} Average {metric} For {vType} Where The Stopping Lane is {STOPPING_LANE}\", fontsize=fontsize)\n",
    "            plt.savefig(f\"results_figures/{EXP_NAME}/stopped_lane_{STOPPING_LANE}/{EXP_NAME}_{metric}_{vType}_stopping_lane_{STOPPING_LANE}.png\")\n",
    "            plt.close()\n",
    "\n",
    "    "
   ],
   "metadata": {
    "collapsed": false,
    "ExecuteTime": {
     "end_time": "2024-03-03T10:36:10.121968800Z",
     "start_time": "2024-03-03T10:30:40.977733300Z"
    }
   },
   "id": "6d038c53bb5a62e3",
   "execution_count": 6
  },
  {
   "cell_type": "code",
   "outputs": [],
   "source": [],
   "metadata": {
    "collapsed": false
   },
   "id": "a32ca1c9e7c872c"
  }
 ],
 "metadata": {
  "kernelspec": {
   "display_name": "Python 3",
   "language": "python",
   "name": "python3"
  },
  "language_info": {
   "codemirror_mode": {
    "name": "ipython",
    "version": 2
   },
   "file_extension": ".py",
   "mimetype": "text/x-python",
   "name": "python",
   "nbconvert_exporter": "python",
   "pygments_lexer": "ipython2",
   "version": "2.7.6"
  }
 },
 "nbformat": 4,
 "nbformat_minor": 5
}
