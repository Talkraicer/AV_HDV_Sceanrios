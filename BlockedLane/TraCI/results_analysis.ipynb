{
 "cells": [
  {
   "cell_type": "code",
   "execution_count": 1,
   "id": "initial_id",
   "metadata": {
    "collapsed": true,
    "ExecuteTime": {
     "end_time": "2024-02-25T17:13:55.529247200Z",
     "start_time": "2024-02-25T17:13:54.006194400Z"
    }
   },
   "outputs": [],
   "source": [
    "import numpy as np\n",
    "import matplotlib.pyplot as plt\n",
    "import pandas as pd\n",
    "from tqdm import tqdm\n",
    "import matplotlib.colors as mcolors"
   ]
  },
  {
   "cell_type": "code",
   "outputs": [],
   "source": [
    "STOPPING_LANE = 1\n",
    "METRICS = [\"duration\", \"speed\", \"timeLoss\", \"totalDelay\"]\n",
    "vTypes = [\"LaneChanger\",\"all\",\"AV\"]\n",
    "fontsize = 60"
   ],
   "metadata": {
    "collapsed": false,
    "ExecuteTime": {
     "end_time": "2024-02-25T17:23:12.003230500Z",
     "start_time": "2024-02-25T17:23:11.986529900Z"
    }
   },
   "id": "9206658b49c28dbc",
   "execution_count": 10
  },
  {
   "cell_type": "code",
   "outputs": [],
   "source": [
    "def sort_df(df):\n",
    "    split_indices = df.index.str.split('_',expand=True).values.tolist()\n",
    "    cols = [str(i) for i in range(len(split_indices[0]))]\n",
    "    splitted_indices_df = pd.DataFrame(split_indices, index=df.index, columns=cols)\n",
    "    df_joined = df.join(splitted_indices_df)\n",
    "    df_sorted = df_joined.sort_values(by = cols[::-1])\n",
    "    df_sorted.drop(columns=cols, inplace=True)\n",
    "    return df_sorted"
   ],
   "metadata": {
    "collapsed": false,
    "ExecuteTime": {
     "end_time": "2024-02-25T17:16:43.124837700Z",
     "start_time": "2024-02-25T17:16:43.106295100Z"
    }
   },
   "id": "e9c4c5ca6a6d587b",
   "execution_count": 8
  },
  {
   "cell_type": "code",
   "outputs": [
    {
     "name": "stderr",
     "output_type": "stream",
     "text": [
      "  0%|          | 0/3 [00:00<?, ?it/s]\n",
      "  0%|          | 0/4 [00:00<?, ?it/s]\u001B[A\n",
      " 25%|██▌       | 1/4 [00:06<00:18,  6.02s/it]\u001B[A"
     ]
    }
   ],
   "source": [
    "# for loop over vtypes and metrics with tqdm\n",
    "for vType in tqdm(vTypes):\n",
    "    for metric in tqdm(METRICS):\n",
    "        df = pd.read_csv(f\"results_csvs/stopped_lane_{STOPPING_LANE}/BlockedLane_{metric}_{vType}_stopping_lane_{STOPPING_LANE}.csv\",index_col=0)\n",
    "        # sort the rows, but sort by the transposed string\n",
    "        df = sort_df(df)\n",
    "        # round the values\n",
    "        df = df.round(1)\n",
    "        # plot the table with colors according to the values\n",
    "        fig, ax = plt.subplots(figsize=(100,50))\n",
    "        \n",
    "        # Create a colormap\n",
    "        cmap = plt.cm.coolwarm\n",
    "        # Set the color for value 0.0 to black\n",
    "        cmap.set_under(color='black')\n",
    "        \n",
    "        # Mask the DataFrame values that are not 0.0\n",
    "        df_masked = np.ma.masked_where(df == 0.0, df)\n",
    "        \n",
    "        # Use the custom colormap\n",
    "        cax = ax.matshow(df_masked, cmap=cmap)\n",
    "    \n",
    "        fig.colorbar(cax)\n",
    "        # Add cell values as text on each cell\n",
    "        for i in range(df.shape[0]):\n",
    "            for j in range(df.shape[1]):\n",
    "                text = ax.text(j, i, df.iloc[i, j],\n",
    "                               ha=\"center\", va=\"center\", color=\"w\")\n",
    "        # Set the x-axis labels\n",
    "        ax.set_xticks(np.arange(len(df.columns)))\n",
    "        ax.set_xticklabels(df.columns)\n",
    "        # Set the y-axis labels\n",
    "        ax.set_yticks(np.arange(len(df.index)))\n",
    "        ax.set_yticklabels(df.index)\n",
    "        # Rotate the y-axis labels\n",
    "        plt.setp(ax.get_xticklabels(), rotation=90, ha=\"right\")\n",
    "        plt.suptitle(f\"BlockedLane Average {metric} For {vType} Where The Stopping Lane is {STOPPING_LANE}\", fontsize=fontsize)\n",
    "        plt.savefig(f\"results_figures/stopped_lane_{STOPPING_LANE}/BlockedLane_{metric}_{vType}_stopping_lane_{STOPPING_LANE}.png\")\n",
    "        plt.close()\n",
    "\n",
    "    "
   ],
   "metadata": {
    "collapsed": false,
    "is_executing": true,
    "ExecuteTime": {
     "start_time": "2024-02-25T17:23:15.932626800Z"
    }
   },
   "id": "6d038c53bb5a62e3",
   "execution_count": null
  },
  {
   "cell_type": "code",
   "outputs": [],
   "source": [],
   "metadata": {
    "collapsed": false
   },
   "id": "a32ca1c9e7c872c"
  }
 ],
 "metadata": {
  "kernelspec": {
   "display_name": "Python 3",
   "language": "python",
   "name": "python3"
  },
  "language_info": {
   "codemirror_mode": {
    "name": "ipython",
    "version": 2
   },
   "file_extension": ".py",
   "mimetype": "text/x-python",
   "name": "python",
   "nbconvert_exporter": "python",
   "pygments_lexer": "ipython2",
   "version": "2.7.6"
  }
 },
 "nbformat": 4,
 "nbformat_minor": 5
}
